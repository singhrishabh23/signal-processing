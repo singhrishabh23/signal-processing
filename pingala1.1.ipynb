{
 "cells": [
  {
   "cell_type": "code",
   "execution_count": 2,
   "metadata": {},
   "outputs": [],
   "source": [
    "import numpy as np"
   ]
  },
  {
   "cell_type": "code",
   "execution_count": 20,
   "metadata": {},
   "outputs": [
    {
     "name": "stdout",
     "output_type": "stream",
     "text": [
      "[1.00000000e+00 2.00000000e+00 4.00000000e+00 7.00000000e+00\n",
      " 1.20000000e+01 2.00000000e+01 3.30000000e+01 5.40000000e+01\n",
      " 8.80000000e+01 1.43000000e+02 2.32000000e+02 3.76000000e+02\n",
      " 6.09000000e+02 9.86000000e+02 1.59600000e+03 2.58300000e+03\n",
      " 4.18000000e+03 6.76400000e+03 1.09450000e+04 1.77100000e+04\n",
      " 2.86560000e+04 4.63670000e+04 7.50240000e+04 1.21392000e+05\n",
      " 1.96417000e+05 3.17810000e+05 5.14228000e+05 8.32039000e+05\n",
      " 1.34626800e+06 2.17830800e+06 3.52457700e+06 5.70288600e+06\n",
      " 9.22746400e+06 1.49303510e+07 2.41578160e+07 3.90881680e+07\n",
      " 6.32459850e+07 1.02334154e+08 1.65580140e+08 2.67914295e+08\n",
      " 4.33494436e+08 7.01408732e+08 1.13490317e+09 1.83631190e+09\n",
      " 2.97121507e+09 4.80752698e+09 7.77874205e+09 1.25862690e+10\n",
      " 2.03650111e+10 3.29512801e+10 5.33162912e+10 8.62675713e+10\n",
      " 1.39583862e+11 2.25851434e+11 3.65435296e+11 5.91286730e+11\n",
      " 9.56722026e+11 1.54800876e+12 2.50473078e+12 4.05273954e+12\n",
      " 6.55747032e+12 1.06102099e+13 1.71676802e+13 2.77778900e+13\n",
      " 4.49455702e+13 7.27234602e+13 1.17669030e+14 1.90392491e+14\n",
      " 3.08061521e+14 4.98454012e+14 8.06515533e+14 1.30496954e+15\n",
      " 2.11148508e+15 3.41645462e+15 5.52793970e+15 8.94439432e+15\n",
      " 1.44723340e+16 2.34167283e+16 3.78890624e+16 6.13057907e+16\n",
      " 9.91948531e+16 1.60500644e+17 2.59695497e+17 4.20196141e+17\n",
      " 6.79891638e+17 1.10008778e+18 1.77997942e+18 2.88006719e+18\n",
      " 4.66004661e+18 7.54011380e+18 1.22001604e+19 1.97402742e+19\n",
      " 3.19404346e+19 5.16807089e+19 8.36211435e+19 1.35301852e+20\n",
      " 2.18922996e+20 3.54224848e+20 5.73147844e+20 9.27372692e+20]\n",
      "32951280098.000053\n",
      "1.1 correct\n"
     ]
    }
   ],
   "source": [
    "n=100\n",
    "alpha = (1+np.sqrt(5))/2\n",
    "beta= (1- np.sqrt(5))/2\n",
    "k= np.linspace(1,n,n)\n",
    "\n",
    "a=(alpha **k - beta**k)/(alpha-beta)\n",
    "ca= np.cumsum(a)\n",
    "print(ca)\n",
    "\n",
    "print(((alpha **52 - beta**52)/(alpha-beta)) -1)\n",
    "\n",
    "if (np.allclose(ca[:98], a[2:] - 1)): print(\"1.1 correct\")\n",
    "else: print(\"1.1 incorrect\")"
   ]
  },
  {
   "cell_type": "code",
   "execution_count": 21,
   "metadata": {},
   "outputs": [
    {
     "name": "stdout",
     "output_type": "stream",
     "text": [
      "1.2 correct\n"
     ]
    }
   ],
   "source": [
    "#Problem 1.2\n",
    "t = 10**k\n",
    "ta = a*(1/t)\n",
    "eps = 1e-6\n",
    "ans = 10/89\n",
    "sa = np.cumsum(ta)\n",
    "if (abs(sa[-1] - ans) < eps): print(\"1.2 correct\")\n",
    "else: print(\"1.2 incorrect\")\n"
   ]
  },
  {
   "cell_type": "code",
   "execution_count": 22,
   "metadata": {},
   "outputs": [
    {
     "name": "stdout",
     "output_type": "stream",
     "text": [
      "1.3 correct\n"
     ]
    }
   ],
   "source": [
    "#problem 1.3\n",
    "b = a[2:] + a[:98]\n",
    "b = np.pad(b, (1, 0), 'constant', constant_values=(1, 0))\n",
    "b_new = alpha**k + beta**k\n",
    "if (np.allclose(b, b_new[:99])): print(\"1.3 correct\")\n",
    "else: print(\"1.3 incorrect\")"
   ]
  },
  {
   "cell_type": "code",
   "execution_count": 23,
   "metadata": {},
   "outputs": [
    {
     "name": "stdout",
     "output_type": "stream",
     "text": [
      "1.4 incorrect\n"
     ]
    }
   ],
   "source": [
    "#Problem 1.4\n",
    "tb = b*(1/t[:99])\n",
    "eps = 1e-6\n",
    "ans = 8/89\n",
    "sb = np.cumsum(tb)\n",
    "if (abs(sb[-1] - ans) < eps): print(\"1.4 correct\")\n",
    "else: print(\"1.4 incorrect\")"
   ]
  }
 ],
 "metadata": {
  "kernelspec": {
   "display_name": "Python 3.10.4 64-bit",
   "language": "python",
   "name": "python3"
  },
  "language_info": {
   "codemirror_mode": {
    "name": "ipython",
    "version": 3
   },
   "file_extension": ".py",
   "mimetype": "text/x-python",
   "name": "python",
   "nbconvert_exporter": "python",
   "pygments_lexer": "ipython3",
   "version": "3.10.4"
  },
  "orig_nbformat": 4,
  "vscode": {
   "interpreter": {
    "hash": "916dbcbb3f70747c44a77c7bcd40155683ae19c65e1c03b4aa3499c5328201f1"
   }
  }
 },
 "nbformat": 4,
 "nbformat_minor": 2
}
