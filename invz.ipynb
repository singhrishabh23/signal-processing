{
 "cells": [
  {
   "cell_type": "code",
   "execution_count": 3,
   "metadata": {},
   "outputs": [
    {
     "name": "stderr",
     "output_type": "stream",
     "text": [
      "/usr/lib/python3/dist-packages/pkg_resources/__init__.py:116: PkgResourcesDeprecationWarning: 0.1.43ubuntu1 is an invalid version and will not be supported in a future release\n",
      "  warnings.warn(\n"
     ]
    },
    {
     "name": "stdout",
     "output_type": "stream",
     "text": [
      "⎧                 n                    n           \n",
      "⎪⎛1   √5⎞ ⎛1   √5⎞    ⎛1   √5⎞ ⎛1   √5⎞            \n",
      "⎨⎜─ - ──⎟⋅⎜─ - ──⎟  + ⎜─ + ──⎟⋅⎜─ + ──⎟   for n ≥ 0\n",
      "⎪⎝2   2 ⎠ ⎝2   2 ⎠    ⎝2   2 ⎠ ⎝2   2 ⎠            \n",
      "⎩                                                  \n"
     ]
    }
   ],
   "source": [
    "from lcapy.discretetime import n, z\n",
    "import sympy\n",
    "b = [1, 2]\n",
    "a = [1, -1, -1]\n",
    "A = a[0]*(z**0)\n",
    "B = b[0]*(z**0)\n",
    "for i in range(1, len(a)): A += a[i]*(z**(-i))\n",
    "for i in range(1, len(b)): B += b[i]*(z**(-i))   \n",
    "H = B/A\n",
    "sympy.pprint(H.IZT())"
   ]
  }
 ],
 "metadata": {
  "kernelspec": {
   "display_name": "Python 3.10.4 64-bit",
   "language": "python",
   "name": "python3"
  },
  "language_info": {
   "codemirror_mode": {
    "name": "ipython",
    "version": 3
   },
   "file_extension": ".py",
   "mimetype": "text/x-python",
   "name": "python",
   "nbconvert_exporter": "python",
   "pygments_lexer": "ipython3",
   "version": "3.10.4"
  },
  "orig_nbformat": 4,
  "vscode": {
   "interpreter": {
    "hash": "916dbcbb3f70747c44a77c7bcd40155683ae19c65e1c03b4aa3499c5328201f1"
   }
  }
 },
 "nbformat": 4,
 "nbformat_minor": 2
}
